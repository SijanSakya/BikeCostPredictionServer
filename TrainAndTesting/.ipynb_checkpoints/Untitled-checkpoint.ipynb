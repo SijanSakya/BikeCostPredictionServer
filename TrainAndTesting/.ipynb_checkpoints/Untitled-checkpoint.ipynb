{
 "cells": [
  {
   "cell_type": "code",
   "execution_count": 1,
   "id": "f6b27250",
   "metadata": {},
   "outputs": [],
   "source": [
    "!pip install --upgrade scikit-learn\n",
    "import pandas as pd\n",
    "import numpy as np\n",
    "import matplotlib.pyplot as plt\n",
    "import seaborn as sns\n",
    "import os\n",
    "%matplotlib inline"
   ]
  },
  {
   "cell_type": "code",
   "execution_count": 2,
   "id": "11f10694",
   "metadata": {},
   "outputs": [],
   "source": [
    "# !pip install --upgrade scikit-learn"
   ]
  },
  {
   "cell_type": "code",
   "execution_count": 3,
   "id": "edb4e8be",
   "metadata": {},
   "outputs": [
    {
     "data": {
      "text/html": [
       "<div>\n",
       "<style scoped>\n",
       "    .dataframe tbody tr th:only-of-type {\n",
       "        vertical-align: middle;\n",
       "    }\n",
       "\n",
       "    .dataframe tbody tr th {\n",
       "        vertical-align: top;\n",
       "    }\n",
       "\n",
       "    .dataframe thead th {\n",
       "        text-align: right;\n",
       "    }\n",
       "</style>\n",
       "<table border=\"1\" class=\"dataframe\">\n",
       "  <thead>\n",
       "    <tr style=\"text-align: right;\">\n",
       "      <th></th>\n",
       "      <th>bike_name</th>\n",
       "      <th>price</th>\n",
       "      <th>city</th>\n",
       "      <th>kms_driven</th>\n",
       "      <th>age</th>\n",
       "      <th>power</th>\n",
       "      <th>brand</th>\n",
       "      <th>owner</th>\n",
       "    </tr>\n",
       "  </thead>\n",
       "  <tbody>\n",
       "    <tr>\n",
       "      <th>0</th>\n",
       "      <td>TVS Star City Plus Dual Tone 110cc</td>\n",
       "      <td>35000</td>\n",
       "      <td>Ahmedabad</td>\n",
       "      <td>17654</td>\n",
       "      <td>3</td>\n",
       "      <td>110</td>\n",
       "      <td>TVS</td>\n",
       "      <td>1</td>\n",
       "    </tr>\n",
       "    <tr>\n",
       "      <th>1</th>\n",
       "      <td>Royal Enfield Classic 350cc</td>\n",
       "      <td>119900</td>\n",
       "      <td>Delhi</td>\n",
       "      <td>11000</td>\n",
       "      <td>4</td>\n",
       "      <td>350</td>\n",
       "      <td>Royal Enfield</td>\n",
       "      <td>1</td>\n",
       "    </tr>\n",
       "    <tr>\n",
       "      <th>2</th>\n",
       "      <td>Triumph Daytona 675R</td>\n",
       "      <td>600000</td>\n",
       "      <td>Delhi</td>\n",
       "      <td>110</td>\n",
       "      <td>8</td>\n",
       "      <td>675</td>\n",
       "      <td>Triumph</td>\n",
       "      <td>1</td>\n",
       "    </tr>\n",
       "    <tr>\n",
       "      <th>3</th>\n",
       "      <td>TVS Apache RTR 180cc</td>\n",
       "      <td>65000</td>\n",
       "      <td>Bangalore</td>\n",
       "      <td>16329</td>\n",
       "      <td>4</td>\n",
       "      <td>180</td>\n",
       "      <td>TVS</td>\n",
       "      <td>1</td>\n",
       "    </tr>\n",
       "    <tr>\n",
       "      <th>4</th>\n",
       "      <td>Yamaha FZ S V 2.0 150cc-Ltd. Edition</td>\n",
       "      <td>80000</td>\n",
       "      <td>Bangalore</td>\n",
       "      <td>10000</td>\n",
       "      <td>3</td>\n",
       "      <td>150</td>\n",
       "      <td>Yamaha</td>\n",
       "      <td>1</td>\n",
       "    </tr>\n",
       "    <tr>\n",
       "      <th>...</th>\n",
       "      <td>...</td>\n",
       "      <td>...</td>\n",
       "      <td>...</td>\n",
       "      <td>...</td>\n",
       "      <td>...</td>\n",
       "      <td>...</td>\n",
       "      <td>...</td>\n",
       "      <td>...</td>\n",
       "    </tr>\n",
       "    <tr>\n",
       "      <th>32643</th>\n",
       "      <td>Hero Passion Pro 100cc</td>\n",
       "      <td>39000</td>\n",
       "      <td>Delhi</td>\n",
       "      <td>22000</td>\n",
       "      <td>4</td>\n",
       "      <td>100</td>\n",
       "      <td>Hero</td>\n",
       "      <td>1</td>\n",
       "    </tr>\n",
       "    <tr>\n",
       "      <th>32644</th>\n",
       "      <td>TVS Apache RTR 180cc</td>\n",
       "      <td>30000</td>\n",
       "      <td>Karnal</td>\n",
       "      <td>6639</td>\n",
       "      <td>9</td>\n",
       "      <td>180</td>\n",
       "      <td>TVS</td>\n",
       "      <td>1</td>\n",
       "    </tr>\n",
       "    <tr>\n",
       "      <th>32645</th>\n",
       "      <td>Bajaj Avenger Street 220</td>\n",
       "      <td>60000</td>\n",
       "      <td>Delhi</td>\n",
       "      <td>20373</td>\n",
       "      <td>6</td>\n",
       "      <td>220</td>\n",
       "      <td>Bajaj</td>\n",
       "      <td>1</td>\n",
       "    </tr>\n",
       "    <tr>\n",
       "      <th>32646</th>\n",
       "      <td>Hero Super Splendor 125cc</td>\n",
       "      <td>15600</td>\n",
       "      <td>Jaipur</td>\n",
       "      <td>84186</td>\n",
       "      <td>16</td>\n",
       "      <td>125</td>\n",
       "      <td>Hero</td>\n",
       "      <td>1</td>\n",
       "    </tr>\n",
       "    <tr>\n",
       "      <th>32647</th>\n",
       "      <td>Bajaj Pulsar 150cc</td>\n",
       "      <td>22000</td>\n",
       "      <td>Pune</td>\n",
       "      <td>60857</td>\n",
       "      <td>13</td>\n",
       "      <td>150</td>\n",
       "      <td>Bajaj</td>\n",
       "      <td>1</td>\n",
       "    </tr>\n",
       "  </tbody>\n",
       "</table>\n",
       "<p>32648 rows × 8 columns</p>\n",
       "</div>"
      ],
      "text/plain": [
       "                                  bike_name   price       city  kms_driven  \\\n",
       "0        TVS Star City Plus Dual Tone 110cc   35000  Ahmedabad       17654   \n",
       "1               Royal Enfield Classic 350cc  119900      Delhi       11000   \n",
       "2                      Triumph Daytona 675R  600000      Delhi         110   \n",
       "3                      TVS Apache RTR 180cc   65000  Bangalore       16329   \n",
       "4      Yamaha FZ S V 2.0 150cc-Ltd. Edition   80000  Bangalore       10000   \n",
       "...                                     ...     ...        ...         ...   \n",
       "32643                Hero Passion Pro 100cc   39000      Delhi       22000   \n",
       "32644                  TVS Apache RTR 180cc   30000     Karnal        6639   \n",
       "32645              Bajaj Avenger Street 220   60000      Delhi       20373   \n",
       "32646             Hero Super Splendor 125cc   15600     Jaipur       84186   \n",
       "32647                    Bajaj Pulsar 150cc   22000       Pune       60857   \n",
       "\n",
       "       age  power          brand  owner  \n",
       "0        3    110            TVS      1  \n",
       "1        4    350  Royal Enfield      1  \n",
       "2        8    675        Triumph      1  \n",
       "3        4    180            TVS      1  \n",
       "4        3    150         Yamaha      1  \n",
       "...    ...    ...            ...    ...  \n",
       "32643    4    100           Hero      1  \n",
       "32644    9    180            TVS      1  \n",
       "32645    6    220          Bajaj      1  \n",
       "32646   16    125           Hero      1  \n",
       "32647   13    150          Bajaj      1  \n",
       "\n",
       "[32648 rows x 8 columns]"
      ]
     },
     "execution_count": 3,
     "metadata": {},
     "output_type": "execute_result"
    }
   ],
   "source": [
    "df = pd.read_csv('Used_Bikes.csv')\n",
    "df"
   ]
  },
  {
   "cell_type": "code",
   "execution_count": 4,
   "id": "cfa0105e",
   "metadata": {},
   "outputs": [],
   "source": [
    "backup=df.copy()"
   ]
  },
  {
   "cell_type": "code",
   "execution_count": 5,
   "id": "1569e2e5",
   "metadata": {},
   "outputs": [
    {
     "data": {
      "text/plain": [
       "0         3\n",
       "1         4\n",
       "2         8\n",
       "3         4\n",
       "4         3\n",
       "         ..\n",
       "32643     4\n",
       "32644     9\n",
       "32645     6\n",
       "32646    16\n",
       "32647    13\n",
       "Name: age, Length: 32648, dtype: int32"
      ]
     },
     "execution_count": 5,
     "metadata": {},
     "output_type": "execute_result"
    }
   ],
   "source": [
    "df['age'].astype(int)\n"
   ]
  },
  {
   "cell_type": "code",
   "execution_count": 6,
   "id": "d222cfa6",
   "metadata": {},
   "outputs": [
    {
     "name": "stdout",
     "output_type": "stream",
     "text": [
      "<class 'pandas.core.frame.DataFrame'>\n",
      "RangeIndex: 32648 entries, 0 to 32647\n",
      "Data columns (total 8 columns):\n",
      " #   Column      Non-Null Count  Dtype \n",
      "---  ------      --------------  ----- \n",
      " 0   bike_name   32648 non-null  object\n",
      " 1   price       32648 non-null  int64 \n",
      " 2   city        32648 non-null  object\n",
      " 3   kms_driven  32648 non-null  int64 \n",
      " 4   age         32648 non-null  int64 \n",
      " 5   power       32648 non-null  int64 \n",
      " 6   brand       32648 non-null  object\n",
      " 7   owner       32648 non-null  int64 \n",
      "dtypes: int64(5), object(3)\n",
      "memory usage: 2.0+ MB\n"
     ]
    }
   ],
   "source": [
    "df.info()"
   ]
  },
  {
   "cell_type": "code",
   "execution_count": 7,
   "id": "23d0ab5b",
   "metadata": {},
   "outputs": [
    {
     "data": {
      "text/plain": [
       "0                TVS Star City\n",
       "1        Royal Enfield Classic\n",
       "2         Triumph Daytona 675R\n",
       "3               TVS Apache RTR\n",
       "4                  Yamaha FZ S\n",
       "                 ...          \n",
       "32643         Hero Passion Pro\n",
       "32644           TVS Apache RTR\n",
       "32645     Bajaj Avenger Street\n",
       "32646      Hero Super Splendor\n",
       "32647       Bajaj Pulsar 150cc\n",
       "Name: bike_name, Length: 32648, dtype: object"
      ]
     },
     "execution_count": 7,
     "metadata": {},
     "output_type": "execute_result"
    }
   ],
   "source": [
    "df[\"bike_name\"]=df[\"bike_name\"].str.split(\" \").str.slice(0,3).str.join(' ')\n",
    "df[\"bike_name\"]"
   ]
  },
  {
   "cell_type": "code",
   "execution_count": 8,
   "id": "a25cb79d",
   "metadata": {},
   "outputs": [
    {
     "data": {
      "text/html": [
       "<div>\n",
       "<style scoped>\n",
       "    .dataframe tbody tr th:only-of-type {\n",
       "        vertical-align: middle;\n",
       "    }\n",
       "\n",
       "    .dataframe tbody tr th {\n",
       "        vertical-align: top;\n",
       "    }\n",
       "\n",
       "    .dataframe thead th {\n",
       "        text-align: right;\n",
       "    }\n",
       "</style>\n",
       "<table border=\"1\" class=\"dataframe\">\n",
       "  <thead>\n",
       "    <tr style=\"text-align: right;\">\n",
       "      <th></th>\n",
       "      <th>bike_name</th>\n",
       "      <th>price</th>\n",
       "      <th>city</th>\n",
       "      <th>kms_driven</th>\n",
       "      <th>age</th>\n",
       "      <th>power</th>\n",
       "      <th>brand</th>\n",
       "      <th>owner</th>\n",
       "    </tr>\n",
       "  </thead>\n",
       "  <tbody>\n",
       "    <tr>\n",
       "      <th>0</th>\n",
       "      <td>TVS Star City</td>\n",
       "      <td>35000</td>\n",
       "      <td>Ahmedabad</td>\n",
       "      <td>17654</td>\n",
       "      <td>3</td>\n",
       "      <td>110</td>\n",
       "      <td>TVS</td>\n",
       "      <td>1</td>\n",
       "    </tr>\n",
       "    <tr>\n",
       "      <th>1</th>\n",
       "      <td>Royal Enfield Classic</td>\n",
       "      <td>119900</td>\n",
       "      <td>Delhi</td>\n",
       "      <td>11000</td>\n",
       "      <td>4</td>\n",
       "      <td>350</td>\n",
       "      <td>Royal Enfield</td>\n",
       "      <td>1</td>\n",
       "    </tr>\n",
       "    <tr>\n",
       "      <th>2</th>\n",
       "      <td>Triumph Daytona 675R</td>\n",
       "      <td>600000</td>\n",
       "      <td>Delhi</td>\n",
       "      <td>110</td>\n",
       "      <td>8</td>\n",
       "      <td>675</td>\n",
       "      <td>Triumph</td>\n",
       "      <td>1</td>\n",
       "    </tr>\n",
       "    <tr>\n",
       "      <th>3</th>\n",
       "      <td>TVS Apache RTR</td>\n",
       "      <td>65000</td>\n",
       "      <td>Bangalore</td>\n",
       "      <td>16329</td>\n",
       "      <td>4</td>\n",
       "      <td>180</td>\n",
       "      <td>TVS</td>\n",
       "      <td>1</td>\n",
       "    </tr>\n",
       "    <tr>\n",
       "      <th>4</th>\n",
       "      <td>Yamaha FZ S</td>\n",
       "      <td>80000</td>\n",
       "      <td>Bangalore</td>\n",
       "      <td>10000</td>\n",
       "      <td>3</td>\n",
       "      <td>150</td>\n",
       "      <td>Yamaha</td>\n",
       "      <td>1</td>\n",
       "    </tr>\n",
       "    <tr>\n",
       "      <th>...</th>\n",
       "      <td>...</td>\n",
       "      <td>...</td>\n",
       "      <td>...</td>\n",
       "      <td>...</td>\n",
       "      <td>...</td>\n",
       "      <td>...</td>\n",
       "      <td>...</td>\n",
       "      <td>...</td>\n",
       "    </tr>\n",
       "    <tr>\n",
       "      <th>32643</th>\n",
       "      <td>Hero Passion Pro</td>\n",
       "      <td>39000</td>\n",
       "      <td>Delhi</td>\n",
       "      <td>22000</td>\n",
       "      <td>4</td>\n",
       "      <td>100</td>\n",
       "      <td>Hero</td>\n",
       "      <td>1</td>\n",
       "    </tr>\n",
       "    <tr>\n",
       "      <th>32644</th>\n",
       "      <td>TVS Apache RTR</td>\n",
       "      <td>30000</td>\n",
       "      <td>Karnal</td>\n",
       "      <td>6639</td>\n",
       "      <td>9</td>\n",
       "      <td>180</td>\n",
       "      <td>TVS</td>\n",
       "      <td>1</td>\n",
       "    </tr>\n",
       "    <tr>\n",
       "      <th>32645</th>\n",
       "      <td>Bajaj Avenger Street</td>\n",
       "      <td>60000</td>\n",
       "      <td>Delhi</td>\n",
       "      <td>20373</td>\n",
       "      <td>6</td>\n",
       "      <td>220</td>\n",
       "      <td>Bajaj</td>\n",
       "      <td>1</td>\n",
       "    </tr>\n",
       "    <tr>\n",
       "      <th>32646</th>\n",
       "      <td>Hero Super Splendor</td>\n",
       "      <td>15600</td>\n",
       "      <td>Jaipur</td>\n",
       "      <td>84186</td>\n",
       "      <td>16</td>\n",
       "      <td>125</td>\n",
       "      <td>Hero</td>\n",
       "      <td>1</td>\n",
       "    </tr>\n",
       "    <tr>\n",
       "      <th>32647</th>\n",
       "      <td>Bajaj Pulsar 150cc</td>\n",
       "      <td>22000</td>\n",
       "      <td>Pune</td>\n",
       "      <td>60857</td>\n",
       "      <td>13</td>\n",
       "      <td>150</td>\n",
       "      <td>Bajaj</td>\n",
       "      <td>1</td>\n",
       "    </tr>\n",
       "  </tbody>\n",
       "</table>\n",
       "<p>32648 rows × 8 columns</p>\n",
       "</div>"
      ],
      "text/plain": [
       "                   bike_name   price       city  kms_driven  age  power  \\\n",
       "0              TVS Star City   35000  Ahmedabad       17654    3    110   \n",
       "1      Royal Enfield Classic  119900      Delhi       11000    4    350   \n",
       "2       Triumph Daytona 675R  600000      Delhi         110    8    675   \n",
       "3             TVS Apache RTR   65000  Bangalore       16329    4    180   \n",
       "4                Yamaha FZ S   80000  Bangalore       10000    3    150   \n",
       "...                      ...     ...        ...         ...  ...    ...   \n",
       "32643       Hero Passion Pro   39000      Delhi       22000    4    100   \n",
       "32644         TVS Apache RTR   30000     Karnal        6639    9    180   \n",
       "32645   Bajaj Avenger Street   60000      Delhi       20373    6    220   \n",
       "32646    Hero Super Splendor   15600     Jaipur       84186   16    125   \n",
       "32647     Bajaj Pulsar 150cc   22000       Pune       60857   13    150   \n",
       "\n",
       "               brand  owner  \n",
       "0                TVS      1  \n",
       "1      Royal Enfield      1  \n",
       "2            Triumph      1  \n",
       "3                TVS      1  \n",
       "4             Yamaha      1  \n",
       "...              ...    ...  \n",
       "32643           Hero      1  \n",
       "32644            TVS      1  \n",
       "32645          Bajaj      1  \n",
       "32646           Hero      1  \n",
       "32647          Bajaj      1  \n",
       "\n",
       "[32648 rows x 8 columns]"
      ]
     },
     "execution_count": 8,
     "metadata": {},
     "output_type": "execute_result"
    }
   ],
   "source": [
    "df=df.reset_index(drop= True)\n",
    "df"
   ]
  },
  {
   "cell_type": "code",
   "execution_count": 9,
   "id": "8858c723",
   "metadata": {},
   "outputs": [
    {
     "data": {
      "text/html": [
       "<div>\n",
       "<style scoped>\n",
       "    .dataframe tbody tr th:only-of-type {\n",
       "        vertical-align: middle;\n",
       "    }\n",
       "\n",
       "    .dataframe tbody tr th {\n",
       "        vertical-align: top;\n",
       "    }\n",
       "\n",
       "    .dataframe thead th {\n",
       "        text-align: right;\n",
       "    }\n",
       "</style>\n",
       "<table border=\"1\" class=\"dataframe\">\n",
       "  <thead>\n",
       "    <tr style=\"text-align: right;\">\n",
       "      <th></th>\n",
       "      <th>price</th>\n",
       "      <th>kms_driven</th>\n",
       "      <th>age</th>\n",
       "      <th>power</th>\n",
       "      <th>owner</th>\n",
       "    </tr>\n",
       "  </thead>\n",
       "  <tbody>\n",
       "    <tr>\n",
       "      <th>count</th>\n",
       "      <td>3.264800e+04</td>\n",
       "      <td>32648.000000</td>\n",
       "      <td>32648.000000</td>\n",
       "      <td>32648.000000</td>\n",
       "      <td>32648.000000</td>\n",
       "    </tr>\n",
       "    <tr>\n",
       "      <th>mean</th>\n",
       "      <td>6.829542e+04</td>\n",
       "      <td>26344.625184</td>\n",
       "      <td>8.048211</td>\n",
       "      <td>213.511302</td>\n",
       "      <td>1.086253</td>\n",
       "    </tr>\n",
       "    <tr>\n",
       "      <th>std</th>\n",
       "      <td>9.071860e+04</td>\n",
       "      <td>22208.527695</td>\n",
       "      <td>4.031700</td>\n",
       "      <td>134.428868</td>\n",
       "      <td>0.296037</td>\n",
       "    </tr>\n",
       "    <tr>\n",
       "      <th>min</th>\n",
       "      <td>4.400000e+03</td>\n",
       "      <td>1.000000</td>\n",
       "      <td>1.000000</td>\n",
       "      <td>100.000000</td>\n",
       "      <td>1.000000</td>\n",
       "    </tr>\n",
       "    <tr>\n",
       "      <th>25%</th>\n",
       "      <td>2.500000e+04</td>\n",
       "      <td>12000.000000</td>\n",
       "      <td>5.000000</td>\n",
       "      <td>150.000000</td>\n",
       "      <td>1.000000</td>\n",
       "    </tr>\n",
       "    <tr>\n",
       "      <th>50%</th>\n",
       "      <td>4.300000e+04</td>\n",
       "      <td>20373.000000</td>\n",
       "      <td>7.000000</td>\n",
       "      <td>150.000000</td>\n",
       "      <td>1.000000</td>\n",
       "    </tr>\n",
       "    <tr>\n",
       "      <th>75%</th>\n",
       "      <td>8.000000e+04</td>\n",
       "      <td>35000.000000</td>\n",
       "      <td>10.000000</td>\n",
       "      <td>220.000000</td>\n",
       "      <td>1.000000</td>\n",
       "    </tr>\n",
       "    <tr>\n",
       "      <th>max</th>\n",
       "      <td>1.900000e+06</td>\n",
       "      <td>750000.000000</td>\n",
       "      <td>63.000000</td>\n",
       "      <td>1800.000000</td>\n",
       "      <td>4.000000</td>\n",
       "    </tr>\n",
       "  </tbody>\n",
       "</table>\n",
       "</div>"
      ],
      "text/plain": [
       "              price     kms_driven           age         power         owner\n",
       "count  3.264800e+04   32648.000000  32648.000000  32648.000000  32648.000000\n",
       "mean   6.829542e+04   26344.625184      8.048211    213.511302      1.086253\n",
       "std    9.071860e+04   22208.527695      4.031700    134.428868      0.296037\n",
       "min    4.400000e+03       1.000000      1.000000    100.000000      1.000000\n",
       "25%    2.500000e+04   12000.000000      5.000000    150.000000      1.000000\n",
       "50%    4.300000e+04   20373.000000      7.000000    150.000000      1.000000\n",
       "75%    8.000000e+04   35000.000000     10.000000    220.000000      1.000000\n",
       "max    1.900000e+06  750000.000000     63.000000   1800.000000      4.000000"
      ]
     },
     "execution_count": 9,
     "metadata": {},
     "output_type": "execute_result"
    }
   ],
   "source": [
    "df.describe()"
   ]
  },
  {
   "cell_type": "code",
   "execution_count": 10,
   "id": "bbb046ca",
   "metadata": {},
   "outputs": [],
   "source": [
    "#df.to_csv('CleanedData.csv')"
   ]
  },
  {
   "cell_type": "markdown",
   "id": "596ee379",
   "metadata": {},
   "source": [
    "# Model"
   ]
  },
  {
   "cell_type": "code",
   "execution_count": 11,
   "id": "1f54f3cf",
   "metadata": {},
   "outputs": [],
   "source": [
    "X= df.drop(columns=\"price\")\n",
    "y=df['price']\n"
   ]
  },
  {
   "cell_type": "code",
   "execution_count": 12,
   "id": "a3904c2f",
   "metadata": {},
   "outputs": [],
   "source": [
    "from sklearn.model_selection import train_test_split\n",
    "X_train, X_test, y_train, y_test= train_test_split(X,y, test_size=0.2)"
   ]
  },
  {
   "cell_type": "code",
   "execution_count": 13,
   "id": "85843d46",
   "metadata": {},
   "outputs": [],
   "source": [
    "from sklearn.linear_model import LinearRegression\n",
    "from sklearn.metrics import r2_score\n",
    "from sklearn.preprocessing import OneHotEncoder\n",
    "from sklearn.compose import make_column_transformer\n",
    "from sklearn.pipeline import make_pipeline"
   ]
  },
  {
   "cell_type": "code",
   "execution_count": 14,
   "id": "f0317ab5",
   "metadata": {},
   "outputs": [
    {
     "data": {
      "text/html": [
       "<style>#sk-container-id-1 {color: black;background-color: white;}#sk-container-id-1 pre{padding: 0;}#sk-container-id-1 div.sk-toggleable {background-color: white;}#sk-container-id-1 label.sk-toggleable__label {cursor: pointer;display: block;width: 100%;margin-bottom: 0;padding: 0.3em;box-sizing: border-box;text-align: center;}#sk-container-id-1 label.sk-toggleable__label-arrow:before {content: \"▸\";float: left;margin-right: 0.25em;color: #696969;}#sk-container-id-1 label.sk-toggleable__label-arrow:hover:before {color: black;}#sk-container-id-1 div.sk-estimator:hover label.sk-toggleable__label-arrow:before {color: black;}#sk-container-id-1 div.sk-toggleable__content {max-height: 0;max-width: 0;overflow: hidden;text-align: left;background-color: #f0f8ff;}#sk-container-id-1 div.sk-toggleable__content pre {margin: 0.2em;color: black;border-radius: 0.25em;background-color: #f0f8ff;}#sk-container-id-1 input.sk-toggleable__control:checked~div.sk-toggleable__content {max-height: 200px;max-width: 100%;overflow: auto;}#sk-container-id-1 input.sk-toggleable__control:checked~label.sk-toggleable__label-arrow:before {content: \"▾\";}#sk-container-id-1 div.sk-estimator input.sk-toggleable__control:checked~label.sk-toggleable__label {background-color: #d4ebff;}#sk-container-id-1 div.sk-label input.sk-toggleable__control:checked~label.sk-toggleable__label {background-color: #d4ebff;}#sk-container-id-1 input.sk-hidden--visually {border: 0;clip: rect(1px 1px 1px 1px);clip: rect(1px, 1px, 1px, 1px);height: 1px;margin: -1px;overflow: hidden;padding: 0;position: absolute;width: 1px;}#sk-container-id-1 div.sk-estimator {font-family: monospace;background-color: #f0f8ff;border: 1px dotted black;border-radius: 0.25em;box-sizing: border-box;margin-bottom: 0.5em;}#sk-container-id-1 div.sk-estimator:hover {background-color: #d4ebff;}#sk-container-id-1 div.sk-parallel-item::after {content: \"\";width: 100%;border-bottom: 1px solid gray;flex-grow: 1;}#sk-container-id-1 div.sk-label:hover label.sk-toggleable__label {background-color: #d4ebff;}#sk-container-id-1 div.sk-serial::before {content: \"\";position: absolute;border-left: 1px solid gray;box-sizing: border-box;top: 0;bottom: 0;left: 50%;z-index: 0;}#sk-container-id-1 div.sk-serial {display: flex;flex-direction: column;align-items: center;background-color: white;padding-right: 0.2em;padding-left: 0.2em;position: relative;}#sk-container-id-1 div.sk-item {position: relative;z-index: 1;}#sk-container-id-1 div.sk-parallel {display: flex;align-items: stretch;justify-content: center;background-color: white;position: relative;}#sk-container-id-1 div.sk-item::before, #sk-container-id-1 div.sk-parallel-item::before {content: \"\";position: absolute;border-left: 1px solid gray;box-sizing: border-box;top: 0;bottom: 0;left: 50%;z-index: -1;}#sk-container-id-1 div.sk-parallel-item {display: flex;flex-direction: column;z-index: 1;position: relative;background-color: white;}#sk-container-id-1 div.sk-parallel-item:first-child::after {align-self: flex-end;width: 50%;}#sk-container-id-1 div.sk-parallel-item:last-child::after {align-self: flex-start;width: 50%;}#sk-container-id-1 div.sk-parallel-item:only-child::after {width: 0;}#sk-container-id-1 div.sk-dashed-wrapped {border: 1px dashed gray;margin: 0 0.4em 0.5em 0.4em;box-sizing: border-box;padding-bottom: 0.4em;background-color: white;}#sk-container-id-1 div.sk-label label {font-family: monospace;font-weight: bold;display: inline-block;line-height: 1.2em;}#sk-container-id-1 div.sk-label-container {text-align: center;}#sk-container-id-1 div.sk-container {/* jupyter's `normalize.less` sets `[hidden] { display: none; }` but bootstrap.min.css set `[hidden] { display: none !important; }` so we also need the `!important` here to be able to override the default hidden behavior on the sphinx rendered scikit-learn.org. See: https://github.com/scikit-learn/scikit-learn/issues/21755 */display: inline-block !important;position: relative;}#sk-container-id-1 div.sk-text-repr-fallback {display: none;}</style><div id=\"sk-container-id-1\" class=\"sk-top-container\"><div class=\"sk-text-repr-fallback\"><pre>OneHotEncoder()</pre><b>In a Jupyter environment, please rerun this cell to show the HTML representation or trust the notebook. <br />On GitHub, the HTML representation is unable to render, please try loading this page with nbviewer.org.</b></div><div class=\"sk-container\" hidden><div class=\"sk-item\"><div class=\"sk-estimator sk-toggleable\"><input class=\"sk-toggleable__control sk-hidden--visually\" id=\"sk-estimator-id-1\" type=\"checkbox\" checked><label for=\"sk-estimator-id-1\" class=\"sk-toggleable__label sk-toggleable__label-arrow\">OneHotEncoder</label><div class=\"sk-toggleable__content\"><pre>OneHotEncoder()</pre></div></div></div></div></div>"
      ],
      "text/plain": [
       "OneHotEncoder()"
      ]
     },
     "execution_count": 14,
     "metadata": {},
     "output_type": "execute_result"
    }
   ],
   "source": [
    "ohe= OneHotEncoder()\n",
    "ohe.fit(X[['bike_name','city','brand']])"
   ]
  },
  {
   "cell_type": "code",
   "execution_count": 15,
   "id": "d14b9b94",
   "metadata": {},
   "outputs": [],
   "source": [
    "column_trans=make_column_transformer((OneHotEncoder(categories=ohe.categories_),['bike_name','city','brand']), remainder=\"passthrough\")"
   ]
  },
  {
   "cell_type": "code",
   "execution_count": 16,
   "id": "bb26e026",
   "metadata": {},
   "outputs": [],
   "source": [
    "lr=LinearRegression()"
   ]
  },
  {
   "cell_type": "code",
   "execution_count": 17,
   "id": "f6690a19",
   "metadata": {},
   "outputs": [],
   "source": [
    "pipe=make_pipeline(column_trans,lr)"
   ]
  },
  {
   "cell_type": "code",
   "execution_count": 18,
   "id": "d754f8e0",
   "metadata": {},
   "outputs": [
    {
     "data": {
      "text/html": [
       "<style>#sk-container-id-2 {color: black;background-color: white;}#sk-container-id-2 pre{padding: 0;}#sk-container-id-2 div.sk-toggleable {background-color: white;}#sk-container-id-2 label.sk-toggleable__label {cursor: pointer;display: block;width: 100%;margin-bottom: 0;padding: 0.3em;box-sizing: border-box;text-align: center;}#sk-container-id-2 label.sk-toggleable__label-arrow:before {content: \"▸\";float: left;margin-right: 0.25em;color: #696969;}#sk-container-id-2 label.sk-toggleable__label-arrow:hover:before {color: black;}#sk-container-id-2 div.sk-estimator:hover label.sk-toggleable__label-arrow:before {color: black;}#sk-container-id-2 div.sk-toggleable__content {max-height: 0;max-width: 0;overflow: hidden;text-align: left;background-color: #f0f8ff;}#sk-container-id-2 div.sk-toggleable__content pre {margin: 0.2em;color: black;border-radius: 0.25em;background-color: #f0f8ff;}#sk-container-id-2 input.sk-toggleable__control:checked~div.sk-toggleable__content {max-height: 200px;max-width: 100%;overflow: auto;}#sk-container-id-2 input.sk-toggleable__control:checked~label.sk-toggleable__label-arrow:before {content: \"▾\";}#sk-container-id-2 div.sk-estimator input.sk-toggleable__control:checked~label.sk-toggleable__label {background-color: #d4ebff;}#sk-container-id-2 div.sk-label input.sk-toggleable__control:checked~label.sk-toggleable__label {background-color: #d4ebff;}#sk-container-id-2 input.sk-hidden--visually {border: 0;clip: rect(1px 1px 1px 1px);clip: rect(1px, 1px, 1px, 1px);height: 1px;margin: -1px;overflow: hidden;padding: 0;position: absolute;width: 1px;}#sk-container-id-2 div.sk-estimator {font-family: monospace;background-color: #f0f8ff;border: 1px dotted black;border-radius: 0.25em;box-sizing: border-box;margin-bottom: 0.5em;}#sk-container-id-2 div.sk-estimator:hover {background-color: #d4ebff;}#sk-container-id-2 div.sk-parallel-item::after {content: \"\";width: 100%;border-bottom: 1px solid gray;flex-grow: 1;}#sk-container-id-2 div.sk-label:hover label.sk-toggleable__label {background-color: #d4ebff;}#sk-container-id-2 div.sk-serial::before {content: \"\";position: absolute;border-left: 1px solid gray;box-sizing: border-box;top: 0;bottom: 0;left: 50%;z-index: 0;}#sk-container-id-2 div.sk-serial {display: flex;flex-direction: column;align-items: center;background-color: white;padding-right: 0.2em;padding-left: 0.2em;position: relative;}#sk-container-id-2 div.sk-item {position: relative;z-index: 1;}#sk-container-id-2 div.sk-parallel {display: flex;align-items: stretch;justify-content: center;background-color: white;position: relative;}#sk-container-id-2 div.sk-item::before, #sk-container-id-2 div.sk-parallel-item::before {content: \"\";position: absolute;border-left: 1px solid gray;box-sizing: border-box;top: 0;bottom: 0;left: 50%;z-index: -1;}#sk-container-id-2 div.sk-parallel-item {display: flex;flex-direction: column;z-index: 1;position: relative;background-color: white;}#sk-container-id-2 div.sk-parallel-item:first-child::after {align-self: flex-end;width: 50%;}#sk-container-id-2 div.sk-parallel-item:last-child::after {align-self: flex-start;width: 50%;}#sk-container-id-2 div.sk-parallel-item:only-child::after {width: 0;}#sk-container-id-2 div.sk-dashed-wrapped {border: 1px dashed gray;margin: 0 0.4em 0.5em 0.4em;box-sizing: border-box;padding-bottom: 0.4em;background-color: white;}#sk-container-id-2 div.sk-label label {font-family: monospace;font-weight: bold;display: inline-block;line-height: 1.2em;}#sk-container-id-2 div.sk-label-container {text-align: center;}#sk-container-id-2 div.sk-container {/* jupyter's `normalize.less` sets `[hidden] { display: none; }` but bootstrap.min.css set `[hidden] { display: none !important; }` so we also need the `!important` here to be able to override the default hidden behavior on the sphinx rendered scikit-learn.org. See: https://github.com/scikit-learn/scikit-learn/issues/21755 */display: inline-block !important;position: relative;}#sk-container-id-2 div.sk-text-repr-fallback {display: none;}</style><div id=\"sk-container-id-2\" class=\"sk-top-container\"><div class=\"sk-text-repr-fallback\"><pre>Pipeline(steps=[(&#x27;columntransformer&#x27;,\n",
       "                 ColumnTransformer(remainder=&#x27;passthrough&#x27;,\n",
       "                                   transformers=[(&#x27;onehotencoder&#x27;,\n",
       "                                                  OneHotEncoder(categories=[array([&#x27;BMW F750 GS&#x27;, &#x27;BMW G 310&#x27;, &#x27;BMW S 1000&#x27;, &#x27;Bajaj  Pulsar&#x27;,\n",
       "       &#x27;Bajaj Avenger 150cc&#x27;, &#x27;Bajaj Avenger 180cc&#x27;,\n",
       "       &#x27;Bajaj Avenger 200cc&#x27;, &#x27;Bajaj Avenger 220cc&#x27;,\n",
       "       &#x27;Bajaj Avenger Cruise&#x27;, &#x27;Bajaj Avenger Street&#x27;,\n",
       "       &#x27;Bajaj Boxer AT100&#x27;, &#x27;Bajaj Boxer BM150&#x27;, &#x27;B...\n",
       "       &#x27;Vizianagaram&#x27;, &#x27;Warangal&#x27;, &#x27;Wardha&#x27;, &#x27;Yamuna Nagar&#x27;, &#x27;Yemmiganur&#x27;,\n",
       "       &#x27;Zirakpur&#x27;], dtype=object),\n",
       "                                                                            array([&#x27;BMW&#x27;, &#x27;Bajaj&#x27;, &#x27;Benelli&#x27;, &#x27;Ducati&#x27;, &#x27;Harley-Davidson&#x27;, &#x27;Hero&#x27;,\n",
       "       &#x27;Honda&#x27;, &#x27;Hyosung&#x27;, &#x27;Ideal&#x27;, &#x27;Indian&#x27;, &#x27;Jawa&#x27;, &#x27;KTM&#x27;, &#x27;Kawasaki&#x27;,\n",
       "       &#x27;LML&#x27;, &#x27;MV&#x27;, &#x27;Mahindra&#x27;, &#x27;Rajdoot&#x27;, &#x27;Royal Enfield&#x27;, &#x27;Suzuki&#x27;,\n",
       "       &#x27;TVS&#x27;, &#x27;Triumph&#x27;, &#x27;Yamaha&#x27;, &#x27;Yezdi&#x27;], dtype=object)]),\n",
       "                                                  [&#x27;bike_name&#x27;, &#x27;city&#x27;,\n",
       "                                                   &#x27;brand&#x27;])])),\n",
       "                (&#x27;linearregression&#x27;, LinearRegression())])</pre><b>In a Jupyter environment, please rerun this cell to show the HTML representation or trust the notebook. <br />On GitHub, the HTML representation is unable to render, please try loading this page with nbviewer.org.</b></div><div class=\"sk-container\" hidden><div class=\"sk-item sk-dashed-wrapped\"><div class=\"sk-label-container\"><div class=\"sk-label sk-toggleable\"><input class=\"sk-toggleable__control sk-hidden--visually\" id=\"sk-estimator-id-2\" type=\"checkbox\" ><label for=\"sk-estimator-id-2\" class=\"sk-toggleable__label sk-toggleable__label-arrow\">Pipeline</label><div class=\"sk-toggleable__content\"><pre>Pipeline(steps=[(&#x27;columntransformer&#x27;,\n",
       "                 ColumnTransformer(remainder=&#x27;passthrough&#x27;,\n",
       "                                   transformers=[(&#x27;onehotencoder&#x27;,\n",
       "                                                  OneHotEncoder(categories=[array([&#x27;BMW F750 GS&#x27;, &#x27;BMW G 310&#x27;, &#x27;BMW S 1000&#x27;, &#x27;Bajaj  Pulsar&#x27;,\n",
       "       &#x27;Bajaj Avenger 150cc&#x27;, &#x27;Bajaj Avenger 180cc&#x27;,\n",
       "       &#x27;Bajaj Avenger 200cc&#x27;, &#x27;Bajaj Avenger 220cc&#x27;,\n",
       "       &#x27;Bajaj Avenger Cruise&#x27;, &#x27;Bajaj Avenger Street&#x27;,\n",
       "       &#x27;Bajaj Boxer AT100&#x27;, &#x27;Bajaj Boxer BM150&#x27;, &#x27;B...\n",
       "       &#x27;Vizianagaram&#x27;, &#x27;Warangal&#x27;, &#x27;Wardha&#x27;, &#x27;Yamuna Nagar&#x27;, &#x27;Yemmiganur&#x27;,\n",
       "       &#x27;Zirakpur&#x27;], dtype=object),\n",
       "                                                                            array([&#x27;BMW&#x27;, &#x27;Bajaj&#x27;, &#x27;Benelli&#x27;, &#x27;Ducati&#x27;, &#x27;Harley-Davidson&#x27;, &#x27;Hero&#x27;,\n",
       "       &#x27;Honda&#x27;, &#x27;Hyosung&#x27;, &#x27;Ideal&#x27;, &#x27;Indian&#x27;, &#x27;Jawa&#x27;, &#x27;KTM&#x27;, &#x27;Kawasaki&#x27;,\n",
       "       &#x27;LML&#x27;, &#x27;MV&#x27;, &#x27;Mahindra&#x27;, &#x27;Rajdoot&#x27;, &#x27;Royal Enfield&#x27;, &#x27;Suzuki&#x27;,\n",
       "       &#x27;TVS&#x27;, &#x27;Triumph&#x27;, &#x27;Yamaha&#x27;, &#x27;Yezdi&#x27;], dtype=object)]),\n",
       "                                                  [&#x27;bike_name&#x27;, &#x27;city&#x27;,\n",
       "                                                   &#x27;brand&#x27;])])),\n",
       "                (&#x27;linearregression&#x27;, LinearRegression())])</pre></div></div></div><div class=\"sk-serial\"><div class=\"sk-item sk-dashed-wrapped\"><div class=\"sk-label-container\"><div class=\"sk-label sk-toggleable\"><input class=\"sk-toggleable__control sk-hidden--visually\" id=\"sk-estimator-id-3\" type=\"checkbox\" ><label for=\"sk-estimator-id-3\" class=\"sk-toggleable__label sk-toggleable__label-arrow\">columntransformer: ColumnTransformer</label><div class=\"sk-toggleable__content\"><pre>ColumnTransformer(remainder=&#x27;passthrough&#x27;,\n",
       "                  transformers=[(&#x27;onehotencoder&#x27;,\n",
       "                                 OneHotEncoder(categories=[array([&#x27;BMW F750 GS&#x27;, &#x27;BMW G 310&#x27;, &#x27;BMW S 1000&#x27;, &#x27;Bajaj  Pulsar&#x27;,\n",
       "       &#x27;Bajaj Avenger 150cc&#x27;, &#x27;Bajaj Avenger 180cc&#x27;,\n",
       "       &#x27;Bajaj Avenger 200cc&#x27;, &#x27;Bajaj Avenger 220cc&#x27;,\n",
       "       &#x27;Bajaj Avenger Cruise&#x27;, &#x27;Bajaj Avenger Street&#x27;,\n",
       "       &#x27;Bajaj Boxer AT100&#x27;, &#x27;Bajaj Boxer BM150&#x27;, &#x27;Bajaj Boxer CT100&#x27;,\n",
       "       &#x27;Bajaj CT 100&#x27;, &#x27;Bajaj CT...\n",
       "       &#x27;Viramgam&#x27;, &#x27;Virar&#x27;, &#x27;Virudhunagar&#x27;, &#x27;Visakhapatnam&#x27;,\n",
       "       &#x27;Vizianagaram&#x27;, &#x27;Warangal&#x27;, &#x27;Wardha&#x27;, &#x27;Yamuna Nagar&#x27;, &#x27;Yemmiganur&#x27;,\n",
       "       &#x27;Zirakpur&#x27;], dtype=object),\n",
       "                                                           array([&#x27;BMW&#x27;, &#x27;Bajaj&#x27;, &#x27;Benelli&#x27;, &#x27;Ducati&#x27;, &#x27;Harley-Davidson&#x27;, &#x27;Hero&#x27;,\n",
       "       &#x27;Honda&#x27;, &#x27;Hyosung&#x27;, &#x27;Ideal&#x27;, &#x27;Indian&#x27;, &#x27;Jawa&#x27;, &#x27;KTM&#x27;, &#x27;Kawasaki&#x27;,\n",
       "       &#x27;LML&#x27;, &#x27;MV&#x27;, &#x27;Mahindra&#x27;, &#x27;Rajdoot&#x27;, &#x27;Royal Enfield&#x27;, &#x27;Suzuki&#x27;,\n",
       "       &#x27;TVS&#x27;, &#x27;Triumph&#x27;, &#x27;Yamaha&#x27;, &#x27;Yezdi&#x27;], dtype=object)]),\n",
       "                                 [&#x27;bike_name&#x27;, &#x27;city&#x27;, &#x27;brand&#x27;])])</pre></div></div></div><div class=\"sk-parallel\"><div class=\"sk-parallel-item\"><div class=\"sk-item\"><div class=\"sk-label-container\"><div class=\"sk-label sk-toggleable\"><input class=\"sk-toggleable__control sk-hidden--visually\" id=\"sk-estimator-id-4\" type=\"checkbox\" ><label for=\"sk-estimator-id-4\" class=\"sk-toggleable__label sk-toggleable__label-arrow\">onehotencoder</label><div class=\"sk-toggleable__content\"><pre>[&#x27;bike_name&#x27;, &#x27;city&#x27;, &#x27;brand&#x27;]</pre></div></div></div><div class=\"sk-serial\"><div class=\"sk-item\"><div class=\"sk-estimator sk-toggleable\"><input class=\"sk-toggleable__control sk-hidden--visually\" id=\"sk-estimator-id-5\" type=\"checkbox\" ><label for=\"sk-estimator-id-5\" class=\"sk-toggleable__label sk-toggleable__label-arrow\">OneHotEncoder</label><div class=\"sk-toggleable__content\"><pre>OneHotEncoder(categories=[array([&#x27;BMW F750 GS&#x27;, &#x27;BMW G 310&#x27;, &#x27;BMW S 1000&#x27;, &#x27;Bajaj  Pulsar&#x27;,\n",
       "       &#x27;Bajaj Avenger 150cc&#x27;, &#x27;Bajaj Avenger 180cc&#x27;,\n",
       "       &#x27;Bajaj Avenger 200cc&#x27;, &#x27;Bajaj Avenger 220cc&#x27;,\n",
       "       &#x27;Bajaj Avenger Cruise&#x27;, &#x27;Bajaj Avenger Street&#x27;,\n",
       "       &#x27;Bajaj Boxer AT100&#x27;, &#x27;Bajaj Boxer BM150&#x27;, &#x27;Bajaj Boxer CT100&#x27;,\n",
       "       &#x27;Bajaj CT 100&#x27;, &#x27;Bajaj CT110 ES&#x27;, &#x27;Bajaj Discover 100M&#x27;,\n",
       "       &#x27;Bajaj Discover 100T&#x27;, &#x27;Bajaj Discover 100cc&#x27;,\n",
       "       &#x27;Baja...\n",
       "       &#x27;Viramgam&#x27;, &#x27;Virar&#x27;, &#x27;Virudhunagar&#x27;, &#x27;Visakhapatnam&#x27;,\n",
       "       &#x27;Vizianagaram&#x27;, &#x27;Warangal&#x27;, &#x27;Wardha&#x27;, &#x27;Yamuna Nagar&#x27;, &#x27;Yemmiganur&#x27;,\n",
       "       &#x27;Zirakpur&#x27;], dtype=object),\n",
       "                          array([&#x27;BMW&#x27;, &#x27;Bajaj&#x27;, &#x27;Benelli&#x27;, &#x27;Ducati&#x27;, &#x27;Harley-Davidson&#x27;, &#x27;Hero&#x27;,\n",
       "       &#x27;Honda&#x27;, &#x27;Hyosung&#x27;, &#x27;Ideal&#x27;, &#x27;Indian&#x27;, &#x27;Jawa&#x27;, &#x27;KTM&#x27;, &#x27;Kawasaki&#x27;,\n",
       "       &#x27;LML&#x27;, &#x27;MV&#x27;, &#x27;Mahindra&#x27;, &#x27;Rajdoot&#x27;, &#x27;Royal Enfield&#x27;, &#x27;Suzuki&#x27;,\n",
       "       &#x27;TVS&#x27;, &#x27;Triumph&#x27;, &#x27;Yamaha&#x27;, &#x27;Yezdi&#x27;], dtype=object)])</pre></div></div></div></div></div></div><div class=\"sk-parallel-item\"><div class=\"sk-item\"><div class=\"sk-label-container\"><div class=\"sk-label sk-toggleable\"><input class=\"sk-toggleable__control sk-hidden--visually\" id=\"sk-estimator-id-6\" type=\"checkbox\" ><label for=\"sk-estimator-id-6\" class=\"sk-toggleable__label sk-toggleable__label-arrow\">remainder</label><div class=\"sk-toggleable__content\"><pre>[&#x27;kms_driven&#x27;, &#x27;age&#x27;, &#x27;power&#x27;, &#x27;owner&#x27;]</pre></div></div></div><div class=\"sk-serial\"><div class=\"sk-item\"><div class=\"sk-estimator sk-toggleable\"><input class=\"sk-toggleable__control sk-hidden--visually\" id=\"sk-estimator-id-7\" type=\"checkbox\" ><label for=\"sk-estimator-id-7\" class=\"sk-toggleable__label sk-toggleable__label-arrow\">passthrough</label><div class=\"sk-toggleable__content\"><pre>passthrough</pre></div></div></div></div></div></div></div></div><div class=\"sk-item\"><div class=\"sk-estimator sk-toggleable\"><input class=\"sk-toggleable__control sk-hidden--visually\" id=\"sk-estimator-id-8\" type=\"checkbox\" ><label for=\"sk-estimator-id-8\" class=\"sk-toggleable__label sk-toggleable__label-arrow\">LinearRegression</label><div class=\"sk-toggleable__content\"><pre>LinearRegression()</pre></div></div></div></div></div></div></div>"
      ],
      "text/plain": [
       "Pipeline(steps=[('columntransformer',\n",
       "                 ColumnTransformer(remainder='passthrough',\n",
       "                                   transformers=[('onehotencoder',\n",
       "                                                  OneHotEncoder(categories=[array(['BMW F750 GS', 'BMW G 310', 'BMW S 1000', 'Bajaj  Pulsar',\n",
       "       'Bajaj Avenger 150cc', 'Bajaj Avenger 180cc',\n",
       "       'Bajaj Avenger 200cc', 'Bajaj Avenger 220cc',\n",
       "       'Bajaj Avenger Cruise', 'Bajaj Avenger Street',\n",
       "       'Bajaj Boxer AT100', 'Bajaj Boxer BM150', 'B...\n",
       "       'Vizianagaram', 'Warangal', 'Wardha', 'Yamuna Nagar', 'Yemmiganur',\n",
       "       'Zirakpur'], dtype=object),\n",
       "                                                                            array(['BMW', 'Bajaj', 'Benelli', 'Ducati', 'Harley-Davidson', 'Hero',\n",
       "       'Honda', 'Hyosung', 'Ideal', 'Indian', 'Jawa', 'KTM', 'Kawasaki',\n",
       "       'LML', 'MV', 'Mahindra', 'Rajdoot', 'Royal Enfield', 'Suzuki',\n",
       "       'TVS', 'Triumph', 'Yamaha', 'Yezdi'], dtype=object)]),\n",
       "                                                  ['bike_name', 'city',\n",
       "                                                   'brand'])])),\n",
       "                ('linearregression', LinearRegression())])"
      ]
     },
     "execution_count": 18,
     "metadata": {},
     "output_type": "execute_result"
    }
   ],
   "source": [
    "pipe.fit(X_train,y_train)"
   ]
  },
  {
   "cell_type": "code",
   "execution_count": 19,
   "id": "7bf7c3df",
   "metadata": {},
   "outputs": [
    {
     "data": {
      "text/plain": [
       "array([  9536.83958087, 460838.75325305,  77902.30856231, ...,\n",
       "       211972.39627   ,  36035.71300689,  43517.86652804])"
      ]
     },
     "execution_count": 19,
     "metadata": {},
     "output_type": "execute_result"
    }
   ],
   "source": [
    "y_pred=pipe.predict(X_test)\n",
    "y_pred"
   ]
  },
  {
   "cell_type": "code",
   "execution_count": 20,
   "id": "b77139ef",
   "metadata": {},
   "outputs": [
    {
     "data": {
      "text/plain": [
       "0.9070557348765835"
      ]
     },
     "execution_count": 20,
     "metadata": {},
     "output_type": "execute_result"
    }
   ],
   "source": [
    "r2_score(y_test,y_pred)"
   ]
  },
  {
   "cell_type": "code",
   "execution_count": 21,
   "id": "b9c3ecfc",
   "metadata": {},
   "outputs": [],
   "source": [
    "scores=[]\n",
    "for i in range(1000):\n",
    "    X_train, X_test, y_train, y_test= train_test_split(X,y, test_size=0.2 , random_state=i)\n",
    "    lr=LinearRegression()\n",
    "    pipe=make_pipeline(column_trans,lr)\n",
    "    pipe.fit(X_train,y_train)\n",
    "    y_pred=pipe.predict(X_test)\n",
    "    scores.append(r2_score(y_test, y_pred))\n",
    "    \n",
    "    "
   ]
  },
  {
   "cell_type": "code",
   "execution_count": 22,
   "id": "e785f2e3",
   "metadata": {},
   "outputs": [
    {
     "data": {
      "text/plain": [
       "215"
      ]
     },
     "execution_count": 22,
     "metadata": {},
     "output_type": "execute_result"
    }
   ],
   "source": [
    "np.argmax(scores)"
   ]
  },
  {
   "cell_type": "code",
   "execution_count": 23,
   "id": "25de2b35",
   "metadata": {},
   "outputs": [
    {
     "data": {
      "text/plain": [
       "0.9422614866880064"
      ]
     },
     "execution_count": 23,
     "metadata": {},
     "output_type": "execute_result"
    }
   ],
   "source": [
    "scores[np.argmax(scores)]\n"
   ]
  },
  {
   "cell_type": "code",
   "execution_count": 24,
   "id": "16c77870",
   "metadata": {},
   "outputs": [
    {
     "data": {
      "text/plain": [
       "0.9422614866880064"
      ]
     },
     "execution_count": 24,
     "metadata": {},
     "output_type": "execute_result"
    }
   ],
   "source": [
    "X_train, X_test, y_train, y_test= train_test_split(X,y, test_size=0.2 , random_state=np.argmax(scores))\n",
    "lr=LinearRegression()\n",
    "pipe=make_pipeline(column_trans,lr)\n",
    "pipe.fit(X_train,y_train)\n",
    "y_pred=pipe.predict(X_test)\n",
    "r2_score(y_test,y_pred)"
   ]
  },
  {
   "cell_type": "code",
   "execution_count": 26,
   "id": "715db086",
   "metadata": {},
   "outputs": [],
   "source": [
    "import pickle \n",
    "pickle.dump(pipe,open('LinearRegressionModel_one.pkl','wb'))   "
   ]
  },
  {
   "cell_type": "code",
   "execution_count": 27,
   "id": "8e4e8291",
   "metadata": {},
   "outputs": [
    {
     "data": {
      "text/plain": [
       "array([340030.01648801])"
      ]
     },
     "execution_count": 27,
     "metadata": {},
     "output_type": "execute_result"
    }
   ],
   "source": [
    "predictions=pipe.predict(pd.DataFrame([['TVS Apache RTR','Delhi',2000,4,500,'TVS',2]],columns=['bike_name','city','kms_driven','age','power','brand','owner']))\n",
    "predictions"
   ]
  },
  {
   "cell_type": "code",
   "execution_count": 28,
   "id": "a3261a0e",
   "metadata": {},
   "outputs": [
    {
     "data": {
      "text/plain": [
       "['LinearRegressionModel_one.joblib']"
      ]
     },
     "execution_count": 28,
     "metadata": {},
     "output_type": "execute_result"
    }
   ],
   "source": [
    "import pickle\n",
    "from joblib import dump\n",
    "\n",
    "# Load from .pkl\n",
    "with open(\"LinearRegressionModel_one.pkl\", \"rb\") as pkl_file:\n",
    "    model = pickle.load(pkl_file)\n",
    "\n",
    "# Save to .joblib\n",
    "dump(model, \"LinearRegressionModel_one.joblib\")\n"
   ]
  },
  {
   "cell_type": "code",
   "execution_count": null,
   "id": "87fd885c",
   "metadata": {},
   "outputs": [],
   "source": []
  }
 ],
 "metadata": {
  "kernelspec": {
   "display_name": "Python 3 (ipykernel)",
   "language": "python",
   "name": "python3"
  },
  "language_info": {
   "codemirror_mode": {
    "name": "ipython",
    "version": 3
   },
   "file_extension": ".py",
   "mimetype": "text/x-python",
   "name": "python",
   "nbconvert_exporter": "python",
   "pygments_lexer": "ipython3",
   "version": "3.10.9"
  }
 },
 "nbformat": 4,
 "nbformat_minor": 5
}
